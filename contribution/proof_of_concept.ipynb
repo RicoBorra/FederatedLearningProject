{
 "cells": [
  {
   "attachments": {},
   "cell_type": "markdown",
   "metadata": {},
   "source": [
    "# Synthetic Data"
   ]
  },
  {
   "cell_type": "code",
   "execution_count": 1,
   "metadata": {},
   "outputs": [],
   "source": [
    "import numpy as np\n",
    "import torch\n",
    "import pandas as pd\n",
    "import matplotlib.pyplot as plt"
   ]
  },
  {
   "cell_type": "code",
   "execution_count": 2,
   "metadata": {},
   "outputs": [
    {
     "data": {
      "text/html": [
       "<div>\n",
       "<style scoped>\n",
       "    .dataframe tbody tr th:only-of-type {\n",
       "        vertical-align: middle;\n",
       "    }\n",
       "\n",
       "    .dataframe tbody tr th {\n",
       "        vertical-align: top;\n",
       "    }\n",
       "\n",
       "    .dataframe thead th {\n",
       "        text-align: right;\n",
       "    }\n",
       "</style>\n",
       "<table border=\"1\" class=\"dataframe\">\n",
       "  <thead>\n",
       "    <tr style=\"text-align: right;\">\n",
       "      <th></th>\n",
       "      <th>y</th>\n",
       "      <th>x_0</th>\n",
       "      <th>x_1</th>\n",
       "      <th>x_2</th>\n",
       "      <th>x_3</th>\n",
       "      <th>x_4</th>\n",
       "      <th>x_5</th>\n",
       "      <th>x_6</th>\n",
       "      <th>x_7</th>\n",
       "      <th>x_8</th>\n",
       "      <th>...</th>\n",
       "      <th>x_4086</th>\n",
       "      <th>x_4087</th>\n",
       "      <th>x_4088</th>\n",
       "      <th>x_4089</th>\n",
       "      <th>x_4090</th>\n",
       "      <th>x_4091</th>\n",
       "      <th>x_4092</th>\n",
       "      <th>x_4093</th>\n",
       "      <th>x_4094</th>\n",
       "      <th>x_4095</th>\n",
       "    </tr>\n",
       "    <tr>\n",
       "      <th>user</th>\n",
       "      <th></th>\n",
       "      <th></th>\n",
       "      <th></th>\n",
       "      <th></th>\n",
       "      <th></th>\n",
       "      <th></th>\n",
       "      <th></th>\n",
       "      <th></th>\n",
       "      <th></th>\n",
       "      <th></th>\n",
       "      <th></th>\n",
       "      <th></th>\n",
       "      <th></th>\n",
       "      <th></th>\n",
       "      <th></th>\n",
       "      <th></th>\n",
       "      <th></th>\n",
       "      <th></th>\n",
       "      <th></th>\n",
       "      <th></th>\n",
       "      <th></th>\n",
       "    </tr>\n",
       "  </thead>\n",
       "  <tbody>\n",
       "    <tr>\n",
       "      <th>3297</th>\n",
       "      <td>6</td>\n",
       "      <td>-0.128890</td>\n",
       "      <td>0.173911</td>\n",
       "      <td>0.419221</td>\n",
       "      <td>-0.727016</td>\n",
       "      <td>-0.299616</td>\n",
       "      <td>0.675596</td>\n",
       "      <td>0.610407</td>\n",
       "      <td>-0.361724</td>\n",
       "      <td>0.408060</td>\n",
       "      <td>...</td>\n",
       "      <td>0.338041</td>\n",
       "      <td>0.237507</td>\n",
       "      <td>-0.344758</td>\n",
       "      <td>0.229402</td>\n",
       "      <td>-1.085741</td>\n",
       "      <td>-0.433503</td>\n",
       "      <td>2.393855e-07</td>\n",
       "      <td>-0.177349</td>\n",
       "      <td>-0.638890</td>\n",
       "      <td>-0.011029</td>\n",
       "    </tr>\n",
       "    <tr>\n",
       "      <th>3297</th>\n",
       "      <td>5</td>\n",
       "      <td>-0.225933</td>\n",
       "      <td>0.455644</td>\n",
       "      <td>0.756297</td>\n",
       "      <td>-0.486792</td>\n",
       "      <td>-0.698764</td>\n",
       "      <td>0.394224</td>\n",
       "      <td>0.767844</td>\n",
       "      <td>-0.262736</td>\n",
       "      <td>0.487188</td>\n",
       "      <td>...</td>\n",
       "      <td>0.373132</td>\n",
       "      <td>0.560332</td>\n",
       "      <td>-0.186852</td>\n",
       "      <td>0.269421</td>\n",
       "      <td>-1.513358</td>\n",
       "      <td>-0.431682</td>\n",
       "      <td>1.220164e-07</td>\n",
       "      <td>-0.469783</td>\n",
       "      <td>-0.990410</td>\n",
       "      <td>0.281288</td>\n",
       "    </tr>\n",
       "    <tr>\n",
       "      <th>3297</th>\n",
       "      <td>0</td>\n",
       "      <td>-0.448277</td>\n",
       "      <td>0.345125</td>\n",
       "      <td>0.524995</td>\n",
       "      <td>-0.326162</td>\n",
       "      <td>-0.454362</td>\n",
       "      <td>0.012110</td>\n",
       "      <td>0.846554</td>\n",
       "      <td>-0.114780</td>\n",
       "      <td>0.429343</td>\n",
       "      <td>...</td>\n",
       "      <td>0.071047</td>\n",
       "      <td>0.333560</td>\n",
       "      <td>-0.029380</td>\n",
       "      <td>0.216826</td>\n",
       "      <td>-0.713988</td>\n",
       "      <td>-0.437678</td>\n",
       "      <td>2.032057e-07</td>\n",
       "      <td>-0.428285</td>\n",
       "      <td>-0.208404</td>\n",
       "      <td>0.695035</td>\n",
       "    </tr>\n",
       "    <tr>\n",
       "      <th>3297</th>\n",
       "      <td>0</td>\n",
       "      <td>-0.099914</td>\n",
       "      <td>-0.002287</td>\n",
       "      <td>0.557689</td>\n",
       "      <td>-0.162973</td>\n",
       "      <td>-0.111826</td>\n",
       "      <td>0.447094</td>\n",
       "      <td>0.692012</td>\n",
       "      <td>0.018105</td>\n",
       "      <td>0.379638</td>\n",
       "      <td>...</td>\n",
       "      <td>0.269023</td>\n",
       "      <td>0.346425</td>\n",
       "      <td>0.048354</td>\n",
       "      <td>0.203529</td>\n",
       "      <td>-0.299741</td>\n",
       "      <td>-0.127380</td>\n",
       "      <td>2.835633e-07</td>\n",
       "      <td>0.201465</td>\n",
       "      <td>0.073021</td>\n",
       "      <td>0.200143</td>\n",
       "    </tr>\n",
       "    <tr>\n",
       "      <th>3297</th>\n",
       "      <td>2</td>\n",
       "      <td>-0.078496</td>\n",
       "      <td>0.745668</td>\n",
       "      <td>0.459139</td>\n",
       "      <td>-1.217975</td>\n",
       "      <td>-0.008267</td>\n",
       "      <td>0.016558</td>\n",
       "      <td>0.872563</td>\n",
       "      <td>-0.499448</td>\n",
       "      <td>0.463783</td>\n",
       "      <td>...</td>\n",
       "      <td>-0.042701</td>\n",
       "      <td>0.231573</td>\n",
       "      <td>0.097380</td>\n",
       "      <td>0.281453</td>\n",
       "      <td>-1.138396</td>\n",
       "      <td>0.146864</td>\n",
       "      <td>2.461218e-07</td>\n",
       "      <td>0.288967</td>\n",
       "      <td>-1.085549</td>\n",
       "      <td>0.127850</td>\n",
       "    </tr>\n",
       "    <tr>\n",
       "      <th>...</th>\n",
       "      <td>...</td>\n",
       "      <td>...</td>\n",
       "      <td>...</td>\n",
       "      <td>...</td>\n",
       "      <td>...</td>\n",
       "      <td>...</td>\n",
       "      <td>...</td>\n",
       "      <td>...</td>\n",
       "      <td>...</td>\n",
       "      <td>...</td>\n",
       "      <td>...</td>\n",
       "      <td>...</td>\n",
       "      <td>...</td>\n",
       "      <td>...</td>\n",
       "      <td>...</td>\n",
       "      <td>...</td>\n",
       "      <td>...</td>\n",
       "      <td>...</td>\n",
       "      <td>...</td>\n",
       "      <td>...</td>\n",
       "      <td>...</td>\n",
       "    </tr>\n",
       "    <tr>\n",
       "      <th>2199</th>\n",
       "      <td>0</td>\n",
       "      <td>0.468579</td>\n",
       "      <td>0.177798</td>\n",
       "      <td>0.267748</td>\n",
       "      <td>-0.057723</td>\n",
       "      <td>-0.056557</td>\n",
       "      <td>0.463001</td>\n",
       "      <td>0.195149</td>\n",
       "      <td>-0.024963</td>\n",
       "      <td>0.456664</td>\n",
       "      <td>...</td>\n",
       "      <td>0.361106</td>\n",
       "      <td>0.440443</td>\n",
       "      <td>0.036904</td>\n",
       "      <td>0.187945</td>\n",
       "      <td>-0.184909</td>\n",
       "      <td>0.218870</td>\n",
       "      <td>2.448862e-07</td>\n",
       "      <td>0.389772</td>\n",
       "      <td>0.109338</td>\n",
       "      <td>0.193327</td>\n",
       "    </tr>\n",
       "    <tr>\n",
       "      <th>2199</th>\n",
       "      <td>47</td>\n",
       "      <td>0.346613</td>\n",
       "      <td>0.675631</td>\n",
       "      <td>0.632938</td>\n",
       "      <td>-0.269215</td>\n",
       "      <td>0.025445</td>\n",
       "      <td>0.858298</td>\n",
       "      <td>0.667775</td>\n",
       "      <td>-0.233528</td>\n",
       "      <td>0.506351</td>\n",
       "      <td>...</td>\n",
       "      <td>0.365908</td>\n",
       "      <td>0.300761</td>\n",
       "      <td>-0.166768</td>\n",
       "      <td>0.238610</td>\n",
       "      <td>-1.396573</td>\n",
       "      <td>0.384459</td>\n",
       "      <td>5.910238e-08</td>\n",
       "      <td>0.112650</td>\n",
       "      <td>-0.977537</td>\n",
       "      <td>0.094893</td>\n",
       "    </tr>\n",
       "    <tr>\n",
       "      <th>2199</th>\n",
       "      <td>5</td>\n",
       "      <td>-0.532746</td>\n",
       "      <td>0.146662</td>\n",
       "      <td>0.965288</td>\n",
       "      <td>-1.011400</td>\n",
       "      <td>-0.540791</td>\n",
       "      <td>0.368271</td>\n",
       "      <td>1.297223</td>\n",
       "      <td>-0.944705</td>\n",
       "      <td>0.523707</td>\n",
       "      <td>...</td>\n",
       "      <td>0.303274</td>\n",
       "      <td>0.117014</td>\n",
       "      <td>0.027401</td>\n",
       "      <td>0.263190</td>\n",
       "      <td>-1.734492</td>\n",
       "      <td>-0.027866</td>\n",
       "      <td>2.916100e-07</td>\n",
       "      <td>-0.137855</td>\n",
       "      <td>-1.435404</td>\n",
       "      <td>0.515957</td>\n",
       "    </tr>\n",
       "    <tr>\n",
       "      <th>2199</th>\n",
       "      <td>41</td>\n",
       "      <td>0.119221</td>\n",
       "      <td>0.308878</td>\n",
       "      <td>0.443802</td>\n",
       "      <td>-0.883116</td>\n",
       "      <td>0.119644</td>\n",
       "      <td>0.031080</td>\n",
       "      <td>0.762086</td>\n",
       "      <td>-0.167856</td>\n",
       "      <td>0.408643</td>\n",
       "      <td>...</td>\n",
       "      <td>0.274581</td>\n",
       "      <td>0.426358</td>\n",
       "      <td>-0.099381</td>\n",
       "      <td>0.253106</td>\n",
       "      <td>-0.574563</td>\n",
       "      <td>-0.125870</td>\n",
       "      <td>2.540777e-07</td>\n",
       "      <td>0.769416</td>\n",
       "      <td>-0.528091</td>\n",
       "      <td>0.265038</td>\n",
       "    </tr>\n",
       "    <tr>\n",
       "      <th>2199</th>\n",
       "      <td>3</td>\n",
       "      <td>-0.240280</td>\n",
       "      <td>0.437974</td>\n",
       "      <td>0.876310</td>\n",
       "      <td>-0.304705</td>\n",
       "      <td>-0.621707</td>\n",
       "      <td>0.745254</td>\n",
       "      <td>0.946599</td>\n",
       "      <td>-0.244663</td>\n",
       "      <td>0.436174</td>\n",
       "      <td>...</td>\n",
       "      <td>0.417878</td>\n",
       "      <td>0.558651</td>\n",
       "      <td>-0.092891</td>\n",
       "      <td>0.246628</td>\n",
       "      <td>-1.099563</td>\n",
       "      <td>-0.299195</td>\n",
       "      <td>2.547501e-07</td>\n",
       "      <td>-0.243451</td>\n",
       "      <td>-0.766140</td>\n",
       "      <td>0.358209</td>\n",
       "    </tr>\n",
       "  </tbody>\n",
       "</table>\n",
       "<p>72073 rows × 4097 columns</p>\n",
       "</div>"
      ],
      "text/plain": [
       "       y       x_0       x_1       x_2       x_3       x_4       x_5  \\\n",
       "user                                                                   \n",
       "3297   6 -0.128890  0.173911  0.419221 -0.727016 -0.299616  0.675596   \n",
       "3297   5 -0.225933  0.455644  0.756297 -0.486792 -0.698764  0.394224   \n",
       "3297   0 -0.448277  0.345125  0.524995 -0.326162 -0.454362  0.012110   \n",
       "3297   0 -0.099914 -0.002287  0.557689 -0.162973 -0.111826  0.447094   \n",
       "3297   2 -0.078496  0.745668  0.459139 -1.217975 -0.008267  0.016558   \n",
       "...   ..       ...       ...       ...       ...       ...       ...   \n",
       "2199   0  0.468579  0.177798  0.267748 -0.057723 -0.056557  0.463001   \n",
       "2199  47  0.346613  0.675631  0.632938 -0.269215  0.025445  0.858298   \n",
       "2199   5 -0.532746  0.146662  0.965288 -1.011400 -0.540791  0.368271   \n",
       "2199  41  0.119221  0.308878  0.443802 -0.883116  0.119644  0.031080   \n",
       "2199   3 -0.240280  0.437974  0.876310 -0.304705 -0.621707  0.745254   \n",
       "\n",
       "           x_6       x_7       x_8  ...    x_4086    x_4087    x_4088  \\\n",
       "user                                ...                                 \n",
       "3297  0.610407 -0.361724  0.408060  ...  0.338041  0.237507 -0.344758   \n",
       "3297  0.767844 -0.262736  0.487188  ...  0.373132  0.560332 -0.186852   \n",
       "3297  0.846554 -0.114780  0.429343  ...  0.071047  0.333560 -0.029380   \n",
       "3297  0.692012  0.018105  0.379638  ...  0.269023  0.346425  0.048354   \n",
       "3297  0.872563 -0.499448  0.463783  ... -0.042701  0.231573  0.097380   \n",
       "...        ...       ...       ...  ...       ...       ...       ...   \n",
       "2199  0.195149 -0.024963  0.456664  ...  0.361106  0.440443  0.036904   \n",
       "2199  0.667775 -0.233528  0.506351  ...  0.365908  0.300761 -0.166768   \n",
       "2199  1.297223 -0.944705  0.523707  ...  0.303274  0.117014  0.027401   \n",
       "2199  0.762086 -0.167856  0.408643  ...  0.274581  0.426358 -0.099381   \n",
       "2199  0.946599 -0.244663  0.436174  ...  0.417878  0.558651 -0.092891   \n",
       "\n",
       "        x_4089    x_4090    x_4091        x_4092    x_4093    x_4094    x_4095  \n",
       "user                                                                            \n",
       "3297  0.229402 -1.085741 -0.433503  2.393855e-07 -0.177349 -0.638890 -0.011029  \n",
       "3297  0.269421 -1.513358 -0.431682  1.220164e-07 -0.469783 -0.990410  0.281288  \n",
       "3297  0.216826 -0.713988 -0.437678  2.032057e-07 -0.428285 -0.208404  0.695035  \n",
       "3297  0.203529 -0.299741 -0.127380  2.835633e-07  0.201465  0.073021  0.200143  \n",
       "3297  0.281453 -1.138396  0.146864  2.461218e-07  0.288967 -1.085549  0.127850  \n",
       "...        ...       ...       ...           ...       ...       ...       ...  \n",
       "2199  0.187945 -0.184909  0.218870  2.448862e-07  0.389772  0.109338  0.193327  \n",
       "2199  0.238610 -1.396573  0.384459  5.910238e-08  0.112650 -0.977537  0.094893  \n",
       "2199  0.263190 -1.734492 -0.027866  2.916100e-07 -0.137855 -1.435404  0.515957  \n",
       "2199  0.253106 -0.574563 -0.125870  2.540777e-07  0.769416 -0.528091  0.265038  \n",
       "2199  0.246628 -1.099563 -0.299195  2.547501e-07 -0.243451 -0.766140  0.358209  \n",
       "\n",
       "[72073 rows x 4097 columns]"
      ]
     },
     "execution_count": 2,
     "metadata": {},
     "output_type": "execute_result"
    }
   ],
   "source": [
    "import pandas as pd\n",
    "\n",
    "filename = \"../data/femnist/compressed/iid_vgg/training.parquet\"\n",
    "df = pd.read_parquet(filename)\n",
    "df"
   ]
  },
  {
   "cell_type": "code",
   "execution_count": 3,
   "metadata": {},
   "outputs": [],
   "source": [
    "def get_x_tensor(x: np.ndarray) -> torch.Tensor:\n",
    "    x = torch.tensor(np.expand_dims(x, axis=1), dtype=torch.float32)\n",
    "    ones = torch.unsqueeze(torch.ones(x.shape[0]), 1)\n",
    "    return torch.cat((ones, x), dim=-1)\n",
    "\n",
    "def get_numpy_array(x: torch.Tensor) -> np.ndarray:\n",
    "    return x[:, -1].flatten().numpy()"
   ]
  },
  {
   "attachments": {},
   "cell_type": "markdown",
   "metadata": {},
   "source": [
    "Syntethic dataset generation"
   ]
  },
  {
   "cell_type": "code",
   "execution_count": 4,
   "metadata": {},
   "outputs": [
    {
     "data": {
      "text/plain": [
       "(tensor([[ 1., -5.],\n",
       "         [ 1., -4.],\n",
       "         [ 1.,  4.],\n",
       "         [ 1.,  5.]]),\n",
       " tensor([[-10.],\n",
       "         [-10.],\n",
       "         [  5.],\n",
       "         [  5.]]))"
      ]
     },
     "execution_count": 4,
     "metadata": {},
     "output_type": "execute_result"
    }
   ],
   "source": [
    "x = np.array([-5, -4, 4, 5])\n",
    "X = get_x_tensor(x=x)\n",
    "Y = torch.tensor([[-10, -10, 5, 5]], dtype=torch.float32).T\n",
    "y = get_numpy_array(Y)\n",
    "X, Y"
   ]
  },
  {
   "cell_type": "code",
   "execution_count": 5,
   "metadata": {},
   "outputs": [
    {
     "data": {
      "image/png": "[encoded data removed]",
      "text/plain": [
       "<Figure size 432x288 with 1 Axes>"
      ]
     },
     "metadata": {
      "needs_background": "light"
     },
     "output_type": "display_data"
    }
   ],
   "source": [
    "plt.scatter(x=x, y=y)\n",
    "plt.show()"
   ]
  },
  {
   "attachments": {},
   "cell_type": "markdown",
   "metadata": {},
   "source": [
    "Closed form solution (under invertibility hypothesis, which is not necessary if we add an L2 regularization term)"
   ]
  },
  {
   "cell_type": "code",
   "execution_count": 6,
   "metadata": {},
   "outputs": [
    {
     "data": {
      "text/plain": [
       "tensor([[-2.5000],\n",
       "        [ 1.6463]])"
      ]
     },
     "execution_count": 6,
     "metadata": {},
     "output_type": "execute_result"
    }
   ],
   "source": [
    "XTX = X.T @ X\n",
    "XTY = X.T @ Y\n",
    "B = torch.linalg.solve(XTX, XTY)\n",
    "B"
   ]
  },
  {
   "cell_type": "code",
   "execution_count": 7,
   "metadata": {},
   "outputs": [
    {
     "data": {
      "text/plain": [
       "tensor([[-10.7317],\n",
       "        [ -9.0854],\n",
       "        [  4.0854],\n",
       "        [  5.7317]])"
      ]
     },
     "execution_count": 7,
     "metadata": {},
     "output_type": "execute_result"
    }
   ],
   "source": [
    "X @ B"
   ]
  },
  {
   "cell_type": "code",
   "execution_count": 8,
   "metadata": {},
   "outputs": [],
   "source": [
    "def plot_B(B, x, y, split=True):\n",
    "    xs = np.linspace(-5, 5, 10_000)\n",
    "    XS = get_x_tensor(xs)\n",
    "    YS = XS @ B\n",
    "    ys = get_numpy_array(YS)\n",
    "    plt.plot(xs, ys)\n",
    "    if split == True:\n",
    "        plt.scatter(x[:2], y[:2], c='r')\n",
    "        plt.scatter(x[2:], y[2:], c='g')\n",
    "    else:\n",
    "        plt.scatter(x, y, c='orange')\n",
    "    plt.show()"
   ]
  },
  {
   "cell_type": "code",
   "execution_count": 9,
   "metadata": {},
   "outputs": [
    {
     "data": {
      "image/png": "[encoded data removed]",
      "text/plain": [
       "<Figure size 432x288 with 1 Axes>"
      ]
     },
     "metadata": {
      "needs_background": "light"
     },
     "output_type": "display_data"
    }
   ],
   "source": [
    "plot_B(B, x, y, split=False)"
   ]
  },
  {
   "attachments": {},
   "cell_type": "markdown",
   "metadata": {},
   "source": [
    "Suppose we have 2 clients, one with the first two points and one with the last two, let's try averaging the two closed form solutions of the clients"
   ]
  },
  {
   "cell_type": "code",
   "execution_count": 10,
   "metadata": {},
   "outputs": [],
   "source": [
    "X1, X2 = X[:2], X[2:]\n",
    "Y1, Y2 = Y[:2], Y[2:]"
   ]
  },
  {
   "cell_type": "code",
   "execution_count": 11,
   "metadata": {},
   "outputs": [
    {
     "data": {
      "text/plain": [
       "(tensor([[-1.0000e+01],\n",
       "         [-7.3281e-06]]),\n",
       " tensor([[ 5.0000e+00],\n",
       "         [-3.6640e-06]]))"
      ]
     },
     "execution_count": 11,
     "metadata": {},
     "output_type": "execute_result"
    }
   ],
   "source": [
    "XTX1 = X1.T @ X1\n",
    "XTY1 = X1.T @ Y1\n",
    "B1 = torch.linalg.solve(XTX1, XTY1)\n",
    "\n",
    "XTX2 = X2.T @ X2\n",
    "XTY2 = X2.T @ Y2\n",
    "B2 = torch.linalg.solve(XTX2, XTY2)\n",
    "\n",
    "B1, B2"
   ]
  },
  {
   "cell_type": "code",
   "execution_count": 12,
   "metadata": {},
   "outputs": [
    {
     "data": {
      "text/plain": [
       "(tensor([[-10.0000],\n",
       "         [-10.0000],\n",
       "         [-10.0001],\n",
       "         [-10.0001]]),\n",
       " tensor([[5.0000],\n",
       "         [5.0000],\n",
       "         [5.0000],\n",
       "         [5.0000]]))"
      ]
     },
     "execution_count": 12,
     "metadata": {},
     "output_type": "execute_result"
    }
   ],
   "source": [
    "X @ B1, X @ B2"
   ]
  },
  {
   "cell_type": "code",
   "execution_count": 13,
   "metadata": {},
   "outputs": [
    {
     "data": {
      "image/png": "[encoded data removed]",
      "text/plain": [
       "<Figure size 432x288 with 1 Axes>"
      ]
     },
     "metadata": {
      "needs_background": "light"
     },
     "output_type": "display_data"
    }
   ],
   "source": [
    "plot_B(B1, x, y)"
   ]
  },
  {
   "cell_type": "code",
   "execution_count": 14,
   "metadata": {},
   "outputs": [
    {
     "data": {
      "image/png": "[encoded data removed]",
      "text/plain": [
       "<Figure size 432x288 with 1 Axes>"
      ]
     },
     "metadata": {
      "needs_background": "light"
     },
     "output_type": "display_data"
    }
   ],
   "source": [
    "plot_B(B2, x, y)"
   ]
  },
  {
   "cell_type": "code",
   "execution_count": 15,
   "metadata": {},
   "outputs": [
    {
     "data": {
      "text/plain": [
       "tensor([[-7.5000],\n",
       "        [-7.5000],\n",
       "        [-7.5001],\n",
       "        [-7.5001]])"
      ]
     },
     "execution_count": 15,
     "metadata": {},
     "output_type": "execute_result"
    }
   ],
   "source": [
    "B = B1 + B2 / 2\n",
    "X @ B"
   ]
  },
  {
   "cell_type": "code",
   "execution_count": 16,
   "metadata": {},
   "outputs": [
    {
     "data": {
      "image/png": "[encoded data removed]",
      "text/plain": [
       "<Figure size 432x288 with 1 Axes>"
      ]
     },
     "metadata": {
      "needs_background": "light"
     },
     "output_type": "display_data"
    }
   ],
   "source": [
    "plot_B(B, x, y)"
   ]
  },
  {
   "attachments": {},
   "cell_type": "markdown",
   "metadata": {},
   "source": [
    "Same thing but we use the additive property of the two matrices involved (XTX and XTY)"
   ]
  },
  {
   "cell_type": "code",
   "execution_count": 17,
   "metadata": {},
   "outputs": [
    {
     "data": {
      "text/plain": [
       "tensor([[-2.5000],\n",
       "        [ 1.6463]])"
      ]
     },
     "execution_count": 17,
     "metadata": {},
     "output_type": "execute_result"
    }
   ],
   "source": [
    "XTX = X[:2].T @ X[:2] + X[2:].T @ X[2:]\n",
    "XTY = X[:2].T @ Y[:2] + X[2:].T @ Y[2:]\n",
    "B = torch.linalg.solve(XTX, XTY)\n",
    "B"
   ]
  },
  {
   "cell_type": "code",
   "execution_count": 18,
   "metadata": {},
   "outputs": [
    {
     "data": {
      "text/plain": [
       "tensor([[-10.7317],\n",
       "        [ -9.0854],\n",
       "        [  4.0854],\n",
       "        [  5.7317]])"
      ]
     },
     "execution_count": 18,
     "metadata": {},
     "output_type": "execute_result"
    }
   ],
   "source": [
    "X @ B"
   ]
  },
  {
   "cell_type": "code",
   "execution_count": 19,
   "metadata": {},
   "outputs": [
    {
     "data": {
      "image/png": "[encoded data removed]",
      "text/plain": [
       "<Figure size 432x288 with 1 Axes>"
      ]
     },
     "metadata": {
      "needs_background": "light"
     },
     "output_type": "display_data"
    }
   ],
   "source": [
    "plot_B(B, x, y)"
   ]
  },
  {
   "attachments": {},
   "cell_type": "markdown",
   "metadata": {},
   "source": [
    "# Real Data"
   ]
  },
  {
   "cell_type": "code",
   "execution_count": 1,
   "metadata": {},
   "outputs": [],
   "source": [
    "import sys\n",
    "import os\n",
    "sys.path.append(os.path.dirname(os.getcwd()))\n",
    "\n",
    "from datasets.femnist import Femnist, Transformed_Femnist\n",
    "from models.ridge_classifier import RidgeClassifier\n",
    "from feature_extractors.vgg_19_bn import VGG_19_BN\n",
    "from feature_extractors.rocket2d import Rocket2D\n",
    "from sklearn.decomposition import PCA\n",
    "from sklearn.pipeline import Pipeline\n",
    "from sklearn.preprocessing import StandardScaler\n",
    "import numpy as np\n",
    "import torch\n",
    "import torch.nn.functional as F\n",
    "from torch.utils.data import DataLoader, Subset, Dataset, TensorDataset\n",
    "import pandas as pd\n",
    "import torch.nn as nn\n",
    "import random\n",
    "from sklearn.decomposition import PCA\n",
    "import pyarrow.parquet as pq\n",
    "from tqdm import tqdm"
   ]
  },
  {
   "cell_type": "code",
   "execution_count": 3,
   "metadata": {},
   "outputs": [],
   "source": [
    "MAX_LENGTH = 20_000\n",
    "#torch.set_default_dtype(torch.float64)\n",
    "dtype = torch.float32"
   ]
  },
  {
   "cell_type": "code",
   "execution_count": 3,
   "metadata": {},
   "outputs": [
    {
     "data": {
      "text/plain": [
       "0.5028"
      ]
     },
     "execution_count": 3,
     "metadata": {},
     "output_type": "execute_result"
    }
   ],
   "source": [
    "filename = \"../data/femnist/compressed/iid/training.parquet\"\n",
    "df = pd.read_parquet(filename)\n",
    "df.reset_index(inplace=True)\n",
    "ds = Femnist(df, dtype=dtype)\n",
    "dl = DataLoader(ds, batch_size=MAX_LENGTH)\n",
    "x, y = next(iter(dl))\n",
    "\n",
    "from sklearn.linear_model import RidgeClassifier as RC\n",
    "\n",
    "x = torch.flatten(x, start_dim=1)\n",
    "x = x.numpy()\n",
    "y = y.numpy()\n",
    "\n",
    "clf = RC(alpha=1)\n",
    "clf.fit(x, y)\n",
    "clf.score(x, y)"
   ]
  },
  {
   "cell_type": "code",
   "execution_count": 3,
   "metadata": {},
   "outputs": [],
   "source": [
    "def transform_dataset(transformer: nn.Module, dl: DataLoader, desc:str = \"Progress\", device: str = 'cpu') -> TensorDataset:\n",
    "    progress_bar = tqdm(total=len(dl))\n",
    "    progress_bar.set_description(desc)\n",
    "    lx = []\n",
    "    ly = []\n",
    "    for xb, yb in dl:\n",
    "        xb = xb.to(device=device)\n",
    "        xb_t = transformer(xb)\n",
    "        lx.append(xb_t.to(\"cpu\"))\n",
    "        ly.append(yb.to(\"cpu\"))\n",
    "        progress_bar.update(1)\n",
    "    progress_bar.close()\n",
    "    return TensorDataset(torch.cat(lx), torch.cat(ly))"
   ]
  },
  {
   "cell_type": "code",
   "execution_count": 24,
   "metadata": {},
   "outputs": [
    {
     "name": "stderr",
     "output_type": "stream",
     "text": [
      "Progress: 100%|██████████| 157/157 [01:21<00:00,  1.94it/s]\n"
     ]
    }
   ],
   "source": [
    "filename = \"../data/femnist/compressed/iid/training.parquet\"\n",
    "df = pd.read_parquet(filename)\n",
    "df.reset_index(inplace=True)\n",
    "df = df[:MAX_LENGTH]\n",
    "ds = Femnist(df, dtype=dtype)\n",
    "dl = DataLoader(ds, batch_size=128)\n",
    "\n",
    "from sklearn.linear_model import RidgeClassifier as RC\n",
    "device = \"cuda\" if torch.cuda.is_available() else 'cpu'\n",
    "\n",
    "model = VGG_19_BN(dtype=dtype).to(device=device)\n",
    "\n",
    "tds = transform_dataset(model, dl=dl, device=device)"
   ]
  },
  {
   "cell_type": "code",
   "execution_count": 25,
   "metadata": {},
   "outputs": [
    {
     "data": {
      "text/plain": [
       "tensor([[-0.1289,  0.1739,  0.4192,  ..., -0.1773, -0.6389, -0.0110],\n",
       "        [-0.2259,  0.4556,  0.7563,  ..., -0.4698, -0.9904,  0.2813],\n",
       "        [-0.4483,  0.3451,  0.5250,  ..., -0.4283, -0.2084,  0.6950],\n",
       "        ...,\n",
       "        [ 0.1353, -0.0751,  0.9780,  ...,  0.5046,  0.0211,  0.1015],\n",
       "        [ 0.0397,  0.3252,  0.9926,  ...,  0.5155, -0.0901,  0.0348],\n",
       "        [-0.1848,  0.3014,  0.4860,  ...,  0.0956, -0.2597,  0.1247]])"
      ]
     },
     "execution_count": 25,
     "metadata": {},
     "output_type": "execute_result"
    }
   ],
   "source": [
    "x, y = tds.tensors\n",
    "x_on_the_spot = x\n",
    "x"
   ]
  },
  {
   "cell_type": "code",
   "execution_count": 26,
   "metadata": {},
   "outputs": [
    {
     "name": "stderr",
     "output_type": "stream",
     "text": [
      "/home/nemo/.local/lib/python3.10/site-packages/sklearn/linear_model/_ridge.py:212: LinAlgWarning: Ill-conditioned matrix (rcond=1.48047e-08): result may not be accurate.\n",
      "  return linalg.solve(A, Xy, assume_a=\"pos\", overwrite_a=True).T\n"
     ]
    },
    {
     "data": {
      "text/plain": [
       "0.88065"
      ]
     },
     "execution_count": 26,
     "metadata": {},
     "output_type": "execute_result"
    }
   ],
   "source": [
    "tdl = DataLoader(tds, batch_size=MAX_LENGTH)\n",
    "x, y = next(iter(tdl))\n",
    "\n",
    "from sklearn.linear_model import RidgeClassifier as RC\n",
    "\n",
    "x = torch.flatten(x, start_dim=1)\n",
    "x = x.numpy()\n",
    "y = y.numpy()\n",
    "\n",
    "clf = RC(alpha=1, solver='cholesky')\n",
    "clf.fit(x, y)\n",
    "clf.score(x, y)"
   ]
  },
  {
   "cell_type": "code",
   "execution_count": 27,
   "metadata": {},
   "outputs": [
    {
     "data": {
      "text/plain": [
       "(tensor(0.8806), tensor(0.0212))"
      ]
     },
     "execution_count": 27,
     "metadata": {},
     "output_type": "execute_result"
    }
   ],
   "source": [
    "tdl = DataLoader(tds, batch_size=MAX_LENGTH)\n",
    "x, y = next(iter(tdl))\n",
    "\n",
    "ones = torch.unsqueeze(torch.ones(x.shape[0]), 1)\n",
    "x = torch.cat((ones, x), dim=-1)\n",
    "\n",
    "y_binarized = (F.one_hot(y, num_classes=62)*2)-1\n",
    "y_binarized = y_binarized.type(torch.float32)\n",
    "y = y_binarized\n",
    "\n",
    "xtx = x.T @ x\n",
    "xty = x.T @ y\n",
    "\n",
    "print(torch.linalg.cond(xtx))\n",
    "regularizedxtx = xtx + torch.eye(n=x.shape[1])\n",
    "B = torch.linalg.solve(regularizedxtx, xty)\n",
    "\n",
    "equal = torch.argmax((x @ B), dim=1) == torch.argmax(y, dim=1)\n",
    "equal.sum() / equal.shape[0], F.mse_loss(x @ B, y)"
   ]
  },
  {
   "cell_type": "code",
   "execution_count": 28,
   "metadata": {},
   "outputs": [
    {
     "data": {
      "text/plain": [
       "(tensor(0.8806), tensor(0.0212))"
      ]
     },
     "execution_count": 28,
     "metadata": {},
     "output_type": "execute_result"
    }
   ],
   "source": [
    "tdl = DataLoader(tds, batch_size=128)\n",
    "x, _ = next(iter(tdl))\n",
    "num_features = x.shape[1]\n",
    "num_classes = 62\n",
    "xtx = torch.zeros((num_features + 1, num_features + 1), dtype=torch.float32)\n",
    "xty = torch.zeros((num_features + 1, num_classes), dtype=torch.float32)\n",
    "\n",
    "for x, y in tdl:\n",
    "    ones = torch.unsqueeze(torch.ones(x.shape[0]), 1)\n",
    "    x = torch.cat((ones, x), dim=-1)\n",
    "\n",
    "    y_binarized = (F.one_hot(y, num_classes=num_classes)*2)-1\n",
    "    y_binarized = y_binarized.type(torch.float32)\n",
    "    y = y_binarized\n",
    "\n",
    "    xtx += x.T @ x\n",
    "    xty += x.T @ y\n",
    "\n",
    "regularizedxtx = xtx + torch.eye(n=x.shape[1])\n",
    "B = torch.linalg.solve(regularizedxtx, xty)\n",
    "\n",
    "x,  y = tds.tensors\n",
    "ones = torch.unsqueeze(torch.ones(x.shape[0]), 1)\n",
    "x = torch.cat((ones, x), dim=-1)\n",
    "y_binarized = (F.one_hot(y, num_classes=62)*2)-1\n",
    "y_binarized = y_binarized.type(torch.float32)\n",
    "y = y_binarized\n",
    "\n",
    "equal = torch.argmax((x @ B), dim=1) == torch.argmax(y, dim=1)\n",
    "equal.sum() / equal.shape[0], F.mse_loss(x @ B, y)"
   ]
  },
  {
   "cell_type": "code",
   "execution_count": 4,
   "metadata": {},
   "outputs": [
    {
     "data": {
      "text/plain": [
       "(tensor([[0.0132, 0.9583, 0.0400,  ..., 0.4000, 0.9775, 0.8436],\n",
       "         [0.0344, 0.9329, 0.0522,  ..., 0.4526, 0.9709, 0.7709],\n",
       "         [0.0265, 0.9120, 0.0852,  ..., 0.4553, 0.9563, 0.7545],\n",
       "         ...,\n",
       "         [0.0172, 0.9329, 0.0643,  ..., 0.4368, 0.9735, 0.7909],\n",
       "         [0.0040, 0.9375, 0.0452,  ..., 0.4158, 0.9802, 0.8436],\n",
       "         [0.0212, 0.9259, 0.0678,  ..., 0.4342, 0.9669, 0.7709]]),\n",
       " torch.Size([20000, 10000]))"
      ]
     },
     "execution_count": 4,
     "metadata": {},
     "output_type": "execute_result"
    }
   ],
   "source": [
    "filename = \"../data/femnist/compressed/iid_rocket2d/training.parquet\"\n",
    "df = pd.read_parquet(filename)\n",
    "df.reset_index(inplace=True)\n",
    "df = df[:MAX_LENGTH]\n",
    "ds = Transformed_Femnist(df)\n",
    "dl = DataLoader(ds, batch_size=MAX_LENGTH)\n",
    "x, y = next(iter(dl))\n",
    "x, x.shape"
   ]
  },
  {
   "cell_type": "code",
   "execution_count": 8,
   "metadata": {},
   "outputs": [
    {
     "data": {
      "text/plain": [
       "1071"
      ]
     },
     "execution_count": 8,
     "metadata": {},
     "output_type": "execute_result"
    }
   ],
   "source": [
    "len(df['user'].unique())"
   ]
  },
  {
   "cell_type": "code",
   "execution_count": 30,
   "metadata": {},
   "outputs": [
    {
     "data": {
      "text/plain": [
       "(tensor([[ 0.0000e+00,  0.0000e+00,  0.0000e+00,  ...,  0.0000e+00,\n",
       "           0.0000e+00,  0.0000e+00],\n",
       "         [ 0.0000e+00,  0.0000e+00,  0.0000e+00,  ...,  0.0000e+00,\n",
       "           0.0000e+00,  0.0000e+00],\n",
       "         [ 0.0000e+00,  0.0000e+00,  0.0000e+00,  ...,  0.0000e+00,\n",
       "           0.0000e+00,  0.0000e+00],\n",
       "         ...,\n",
       "         [-3.2246e-05, -6.1981e-05, -1.3709e-05,  ..., -4.6313e-05,\n",
       "          -1.5587e-05, -2.3618e-06],\n",
       "         [ 1.4961e-05,  5.9426e-05,  3.0398e-05,  ...,  8.9407e-07,\n",
       "          -2.1830e-06,  1.0837e-05],\n",
       "         [ 7.9125e-06,  1.9550e-05, -4.5002e-06,  ...,  7.9423e-06,\n",
       "          -7.3016e-06,  3.6418e-05]]),\n",
       " tensor(3.8235e-08),\n",
       " tensor(0.3487))"
      ]
     },
     "execution_count": 30,
     "metadata": {},
     "output_type": "execute_result"
    }
   ],
   "source": [
    "diff = x_on_the_spot - x\n",
    "diff, diff.abs().sum() / (diff.shape[0] * diff.shape[1]), x.abs().sum() / (x.shape[0] * x.shape[1])"
   ]
  },
  {
   "cell_type": "code",
   "execution_count": 6,
   "metadata": {},
   "outputs": [
    {
     "data": {
      "text/plain": [
       "0.9787"
      ]
     },
     "execution_count": 6,
     "metadata": {},
     "output_type": "execute_result"
    }
   ],
   "source": [
    "filename = \"../data/femnist/compressed/iid_rocket2d_pca/training.parquet\"\n",
    "df = pd.read_parquet(filename)\n",
    "df.reset_index(inplace=True)\n",
    "df = df[:MAX_LENGTH]\n",
    "ds = Transformed_Femnist(df)\n",
    "dl = DataLoader(ds, batch_size=MAX_LENGTH)\n",
    "x, y = next(iter(dl))\n",
    "\n",
    "from sklearn.linear_model import RidgeClassifier as RC\n",
    "\n",
    "x = torch.flatten(x, start_dim=1)\n",
    "x = x.numpy()\n",
    "y = y.numpy()\n",
    "\n",
    "clf = RC(alpha=1)\n",
    "clf.fit(x, y)\n",
    "clf.score(x, y)"
   ]
  },
  {
   "cell_type": "code",
   "execution_count": 4,
   "metadata": {},
   "outputs": [
    {
     "name": "stdout",
     "output_type": "stream",
     "text": [
      "tensor(1711.9403)\n"
     ]
    },
    {
     "data": {
      "text/plain": [
       "(tensor(0.9787), tensor(0.0148))"
      ]
     },
     "execution_count": 4,
     "metadata": {},
     "output_type": "execute_result"
    }
   ],
   "source": [
    "filename = \"../data/femnist/compressed/iid_rocket2d_pca/training.parquet\"\n",
    "df = pd.read_parquet(filename)\n",
    "df.reset_index(inplace=True)\n",
    "df = df[:MAX_LENGTH]\n",
    "ds = Transformed_Femnist(df)\n",
    "\n",
    "tdl = DataLoader(ds, batch_size=MAX_LENGTH)\n",
    "x, y = next(iter(tdl))\n",
    "\n",
    "ones = torch.unsqueeze(torch.ones(x.shape[0]), 1)\n",
    "x = torch.cat((ones, x), dim=-1)\n",
    "\n",
    "y_binarized = (F.one_hot(y, num_classes=62)*2)-1\n",
    "y_binarized = y_binarized.type(torch.float32)\n",
    "y = y_binarized\n",
    "\n",
    "xtx = x.T @ x\n",
    "xty = x.T @ y\n",
    "\n",
    "torch.save(xtx, \"xtx.pt\")\n",
    "torch.save(xty, \"xty.pt\")\n",
    "\n",
    "print(torch.linalg.cond(xtx))\n",
    "regularizedxtx = xtx + torch.eye(n=x.shape[1])\n",
    "B = torch.linalg.solve(regularizedxtx, xty)\n",
    "\n",
    "equal = torch.argmax((x @ B), dim=1) == torch.argmax(y, dim=1)\n",
    "equal.sum() / equal.shape[0], F.mse_loss(x @ B, y)"
   ]
  },
  {
   "cell_type": "code",
   "execution_count": 11,
   "metadata": {},
   "outputs": [
    {
     "data": {
      "text/plain": [
       "1071"
      ]
     },
     "execution_count": 11,
     "metadata": {},
     "output_type": "execute_result"
    }
   ],
   "source": [
    "len(df.index.unique())"
   ]
  },
  {
   "cell_type": "code",
   "execution_count": 9,
   "metadata": {},
   "outputs": [
    {
     "ename": "",
     "evalue": "",
     "output_type": "error",
     "traceback": [
      "\u001b[1;31mCannot execute code, session has been disposed. Please try restarting the Kernel."
     ]
    },
    {
     "ename": "",
     "evalue": "",
     "output_type": "error",
     "traceback": [
      "\u001b[1;31mThe Kernel crashed while executing code in the the current cell or a previous cell. Please review the code in the cell(s) to identify a possible cause of the failure. Click <a href='https://aka.ms/vscodeJupyterKernelCrash'>here</a> for more info. View Jupyter <a href='command:jupyter.viewOutput'>log</a> for further details."
     ]
    }
   ],
   "source": [
    "filename = \"../data/femnist/compressed/iid_rocket2d_pca/training.parquet\"\n",
    "df = pd.read_parquet(filename)\n",
    "df.reset_index(inplace=True)\n",
    "ds = Transformed_Femnist(df)\n",
    "dl = DataLoader(ds, batch_size=MAX_LENGTH)\n",
    "x, y = next(iter(dl))\n",
    "\n",
    "from sklearn.linear_model import RidgeClassifier as RC\n",
    "\n",
    "x = torch.flatten(x, start_dim=1)\n",
    "x = x.numpy()\n",
    "y = y.numpy()\n",
    "\n",
    "clf = RC(alpha=1)\n",
    "clf.fit(x, y)\n",
    "clf.score(x, y)"
   ]
  },
  {
   "cell_type": "code",
   "execution_count": 34,
   "metadata": {},
   "outputs": [
    {
     "data": {
      "text/plain": [
       "(tensor(0.9024), tensor(0.0200))"
      ]
     },
     "execution_count": 34,
     "metadata": {},
     "output_type": "execute_result"
    },
    {
     "ename": "",
     "evalue": "",
     "output_type": "error",
     "traceback": [
      "\u001b[1;31mThe Kernel crashed while executing code in the the current cell or a previous cell. Please review the code in the cell(s) to identify a possible cause of the failure. Click <a href='https://aka.ms/vscodeJupyterKernelCrash'>here</a> for more info. View Jupyter <a href='command:jupyter.viewOutput'>log</a> for further details."
     ]
    }
   ],
   "source": [
    "tdl = DataLoader(ds, batch_size=MAX_LENGTH)\n",
    "x, y = next(iter(tdl))\n",
    "\n",
    "ones = torch.unsqueeze(torch.ones(x.shape[0]), 1)\n",
    "x = torch.cat((ones, x), dim=-1)\n",
    "\n",
    "y_binarized = (F.one_hot(y, num_classes=62)*2)-1\n",
    "y_binarized = y_binarized.type(torch.float32)\n",
    "y = y_binarized\n",
    "\n",
    "xtx = x.T @ x\n",
    "xty = x.T @ y\n",
    "\n",
    "print(torch.linalg.cond(xtx))\n",
    "regularizedxtx = xtx + torch.eye(n=x.shape[1])\n",
    "B = torch.linalg.solve(regularizedxtx, xty)\n",
    "\n",
    "equal = torch.argmax((x @ B), dim=1) == torch.argmax(y, dim=1)\n",
    "equal.sum() / equal.shape[0], F.mse_loss(x @ B, y)"
   ]
  }
 ],
 "metadata": {
  "kernelspec": {
   "display_name": "Python 3",
   "language": "python",
   "name": "python3"
  },
  "language_info": {
   "codemirror_mode": {
    "name": "ipython",
    "version": 3
   },
   "file_extension": ".py",
   "mimetype": "text/x-python",
   "name": "python",
   "nbconvert_exporter": "python",
   "pygments_lexer": "ipython3",
   "version": "3.10.6"
  },
  "orig_nbformat": 4
 },
 "nbformat": 4,
 "nbformat_minor": 2
}
